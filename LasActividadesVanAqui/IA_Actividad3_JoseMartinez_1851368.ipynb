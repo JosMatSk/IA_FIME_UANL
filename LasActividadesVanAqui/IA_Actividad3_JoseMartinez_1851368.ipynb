{
  "nbformat": 4,
  "nbformat_minor": 0,
  "metadata": {
    "colab": {
      "name": "IA_Actividad3_JoseMartinez_1851368.ipynb",
      "provenance": [],
      "collapsed_sections": []
    },
    "kernelspec": {
      "name": "python3",
      "display_name": "Python 3"
    },
    "language_info": {
      "name": "python"
    }
  },
  "cells": [
    {
      "cell_type": "markdown",
      "metadata": {
        "id": "bsbGqecW_CSc"
      },
      "source": [
        "##<strong>Actividad 3.- Ejercicios Introducción Python Parte 2 </strong>\n",
        "<strong> Nombre: Jose Emanuel Martinez Rodriguez </strong>\n",
        "\n",
        "<strong> Matricula: 1851368   </strong>  \n",
        "  <strong>  Hora Clase: N4-N6 </strong> "
      ]
    },
    {
      "cell_type": "markdown",
      "metadata": {
        "id": "6r3sPyd6PKcI"
      },
      "source": [
        "##<strong> Ejercicio 1</strong>   \n",
        "<strong>Parte 1.1</strong>\n",
        "\n",
        "Para esta parte se pedira que introdusca 7 de sus comidas favoritas, despues de eso se procedera a imprimirlo de forma tal cual como se introdujo.\n",
        "\n",
        "<strong>Parte 1.2</strong>\n",
        "\n",
        "Para esta segunda parte se imprimira la frase \"Una de mis coidas favoritas es \" mas el nombre de la comida en el orde en que se introdujo. "
      ]
    },
    {
      "cell_type": "code",
      "metadata": {
        "colab": {
          "base_uri": "https://localhost:8080/"
        },
        "id": "w-v5clsW_MDa",
        "outputId": "7390d773-a102-46d3-cd5b-f7bfddbe95bd"
      },
      "source": [
        "##Ejercicio 1.1\n",
        "\n",
        "comidas=[]\n",
        "i=0\n",
        "while i < 7:\n",
        "   dato= input(\"Introduce tu comida favorita: \") \n",
        "   comidas.append (str (dato))\n",
        "   i +=1 \n",
        "print(\"Parte 1\")\n",
        "i=0\n",
        "for i in comidas:\n",
        "   print(i) \n",
        "  \n",
        "##Ejercicio 1.2\n",
        "print(\"Parte 2\")\n",
        "i=0\n",
        "for i in comidas:\n",
        "   b=\"Una de mis comidas favoritas es \"\n",
        "   j=b+i\n",
        "   print(j) \n"
      ],
      "execution_count": 1,
      "outputs": [
        {
          "output_type": "stream",
          "name": "stdout",
          "text": [
            "Introduce tu comida favorita: Quesadillas\n",
            "Introduce tu comida favorita: Spaguetti\n",
            "Introduce tu comida favorita: Picadillo\n",
            "Introduce tu comida favorita: Pastel de Carne\n",
            "Introduce tu comida favorita: Pozole\n",
            "Introduce tu comida favorita: Chilaquiles\n",
            "Introduce tu comida favorita: Entomatadas\n",
            "Parte 1\n",
            "Quesadillas\n",
            "Spaguetti\n",
            "Picadillo\n",
            "Pastel de Carne\n",
            "Pozole\n",
            "Chilaquiles\n",
            "Entomatadas\n",
            "Parte 2\n",
            "Una de mis comidas favoritas es Quesadillas\n",
            "Una de mis comidas favoritas es Spaguetti\n",
            "Una de mis comidas favoritas es Picadillo\n",
            "Una de mis comidas favoritas es Pastel de Carne\n",
            "Una de mis comidas favoritas es Pozole\n",
            "Una de mis comidas favoritas es Chilaquiles\n",
            "Una de mis comidas favoritas es Entomatadas\n"
          ]
        }
      ]
    },
    {
      "cell_type": "markdown",
      "metadata": {
        "id": "sGzxIqsyV3hf"
      },
      "source": [
        "##<strong>Ejercicio 2</strong>\n",
        "\n",
        "Para este ejercicio se nos pidio crear el juego de \"Piedra, Papel o Tijeras\" en el cual se pediria al Jugador 1 y al Jugador 2 elegir una de las opciones dadas y dependiendo de las opciones elegidas, se imprimira quien fue el ganador. "
      ]
    },
    {
      "cell_type": "code",
      "metadata": {
        "colab": {
          "base_uri": "https://localhost:8080/"
        },
        "id": "XcnB9dOAtkMW",
        "outputId": "951b817b-ba92-4f61-9c8c-1647d0bd48cd"
      },
      "source": [
        "##Ejercicio 2\n",
        "print(\"JUEGO PIEDRA PAPEL O TIJERAS\\n Opciones:\\n 1)Piedra \\n 2)Papel \\n 3)Tijeras\")\n",
        "J1=input(\"Jugador 1, elije una opcíon: \")\n",
        "J2=input(\"Jugador 2, elije una opcíon: \")\n",
        "J1=int (J1)\n",
        "J2=int (J2)\n",
        "if (J1!=J2):\n",
        "      if (J1==1 and J2==2):\n",
        "        print(\"Gano el Jugador 2!!! ᗜˬᗜ\")\n",
        "      if (J1==1 and J2==3):\n",
        "        print(\"Gano el Jugador 1!!! ᗜˬᗜ\")  \n",
        "      if (J1==2 and J2==1):\n",
        "        print(\"Gano el Jugador 1!!! ᗜˬᗜ\")\n",
        "      if (J1==2 and J2==3):\n",
        "        print(\"Gano el Jugador 2!!! ᗜˬᗜ\") \n",
        "      if (J1==3 and J2==1):\n",
        "        print(\"Gano el Jugador 2!!! ᗜˬᗜ\")\n",
        "      if (J1==3 and J2==2):\n",
        "        print(\"Gano el Jugador 1!!! ᗜˬᗜ\") \n",
        "else:\n",
        "      print(\"Empate ᗜ_ᗜ\")\n"
      ],
      "execution_count": null,
      "outputs": [
        {
          "output_type": "stream",
          "name": "stdout",
          "text": [
            "JUEGO PIEDRA PAPEL O TIJERAS\n",
            " Opciones:\n",
            " 1)Piedra \n",
            " 2)Papel \n",
            " 3)Tijeras\n",
            "Jugador 1, elije una opcíon: 1\n",
            "Jugador 2, elije una opcíon: 1\n",
            "Empate ᗜ_ᗜ\n"
          ]
        }
      ]
    },
    {
      "cell_type": "markdown",
      "metadata": {
        "id": "N9ilNbgJ50OB"
      },
      "source": [
        "##<strong>Ejercicio 3</strong>\n",
        "\n",
        "Esta parte es para crear un programa que produciera el siguente patron:\n",
        "\n",
        "123456                                 \n",
        "12345                         \n",
        "1234                                                         \n",
        "123                                                           \n",
        "12                                                                    \n",
        "1                                                                     \n",
        "12                                                          \n",
        "123                                                          \n",
        "1234                                                                \n",
        "12345                                                \n",
        "123456"
      ]
    },
    {
      "cell_type": "code",
      "metadata": {
        "colab": {
          "base_uri": "https://localhost:8080/"
        },
        "id": "VGZZ-c7mB4U_",
        "outputId": "c10f1b45-558c-460c-e0f4-d6f4f33f3ce6"
      },
      "source": [
        "##Ejercicio 3\n",
        "for i in range(7, 1, -1):\n",
        "    for j in range(1, i):\n",
        "        print(j, end=\"\")\n",
        "    print()\n",
        "for i in range(3, 8, +1):\n",
        "    for j in range(1, i):\n",
        "        print(j, end=\"\")\n",
        "    print()"
      ],
      "execution_count": null,
      "outputs": [
        {
          "output_type": "stream",
          "name": "stdout",
          "text": [
            "123456\n",
            "12345\n",
            "1234\n",
            "123\n",
            "12\n",
            "1\n",
            "12\n",
            "123\n",
            "1234\n",
            "12345\n",
            "123456\n"
          ]
        }
      ]
    }
  ]
}