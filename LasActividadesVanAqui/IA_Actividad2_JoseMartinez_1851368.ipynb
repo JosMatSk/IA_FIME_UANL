{
  "nbformat": 4,
  "nbformat_minor": 0,
  "metadata": {
    "colab": {
      "name": "IA_Actividad2_JoseMartinez_1851368.ipynb",
      "provenance": [],
      "collapsed_sections": []
    },
    "kernelspec": {
      "name": "python3",
      "display_name": "Python 3"
    },
    "language_info": {
      "name": "python"
    }
  },
  "cells": [
    {
      "cell_type": "markdown",
      "metadata": {
        "id": "L4zyT9nIyqAe"
      },
      "source": [
        "## <strong> Actividad 2.- Ejercicios Introducción Python </strong>\n",
        "<strong> Nombre: Jose Emanuel Martinez Rodriguez </strong>\n",
        "\n",
        "<strong> Matricula: 1851368   </strong>  \n",
        "  <strong>  Hora Clase: N4-N6 </strong>\n"
      ]
    },
    {
      "cell_type": "markdown",
      "metadata": {
        "id": "H7kJVfjh14Br"
      },
      "source": [
        "## <strong> Ejercicio 1 </strong>\n",
        "El siguente programa servira para tener una base de datos para corrovorar tu identidad, para ello se pedira los siguentes datos:\n",
        " - Nombre\n",
        " - Edad\n",
        " - Frase Favorita\n",
        " - Autor de la Frase\n",
        "\n",
        "Al final se corrovara los datos dados. "
      ]
    },
    {
      "cell_type": "code",
      "metadata": {
        "colab": {
          "base_uri": "https://localhost:8080/"
        },
        "id": "7aGpHoOa6hM1",
        "outputId": "46d2bd22-f0a5-42cc-d5ca-1c10a2001376"
      },
      "source": [
        "a= input(\"Introduce tu Nombre: \")\n",
        "b= input(\"Introduce tu Edad: \")\n",
        "c= input(\"Introduce tu Frase Favorita: \")\n",
        "d= input(\"Introduce el Autor de la Frase: \")\n",
        "e=\"Eres \"\n",
        "f=\" con edad de \" \n",
        "g=\" años, tu frase favorita es \"\n",
        "h=\" y el autor de la frase es \"\n",
        "j=\".\"\n",
        "l= e+a+f+b+g+c+h+d+j\n",
        "print(l)"
      ],
      "execution_count": 2,
      "outputs": [
        {
          "output_type": "stream",
          "name": "stdout",
          "text": [
            "Introduce tu Nombre: Jose\n",
            "Introduce tu Edad: 20\n",
            "Introduce tu Frase Favorita: \"Que tiene de bueno sentir pena por ti mismo\"\n",
            "Introduce el Autor de la Frase: Desconocido\n",
            "Eres Jose con edad de 20 años, tu frase favorita es \"Que tiene de bueno sentir pena por ti mismo\" y el autor de la frase es Desconocido.\n"
          ]
        }
      ]
    },
    {
      "cell_type": "markdown",
      "metadata": {
        "id": "rp-PvkU7IEsr"
      },
      "source": [
        "## <strong> Ejercicio 2 </strong>\n",
        "Se platea realizar las 4 operaciones basicas a 2 pares de numeros, el primer par debe ser de numeros enteros, mientras el segundo par debe ser de numeros flotantes y al final se daran los resultados de las operaciones hechas."
      ]
    },
    {
      "cell_type": "code",
      "metadata": {
        "colab": {
          "base_uri": "https://localhost:8080/"
        },
        "id": "KUEjifx9L-qN",
        "outputId": "55512e75-b937-4e5f-946c-09dac8b690fb"
      },
      "source": [
        "a= input(\"Introduce el primer numero entero: \") \n",
        "b= input(\"Introduce el segundo numero entero: \")\n",
        "c= input(\"Introduce el primer numero flotante (con punto decimal): \") \n",
        "d= input(\"Introduce el segundo numero flotante (con punto decimal): \")\n",
        "a=int (a)\n",
        "b=int (b)\n",
        "c=float (c)\n",
        "d=float (d)\n",
        "se=a+b\n",
        "re=a-b\n",
        "me=a*b\n",
        "de=a/b\n",
        "sf=c+d\n",
        "rf=c-d\n",
        "mf=c*d\n",
        "df=c/d\n",
        "rse=\"El resultado de la suma de enteros es: \"\n",
        "rre=\"El resultado de la resta de enteros es: \"\n",
        "rme=\"El resultado de la multiplicacion de enteros es: \"\n",
        "rde=\"El resultado de la division de enteros es: \"\n",
        "rsf=\"El resultado de la suma de numeros flotantes es: \"\n",
        "rrf=\"El resultado de la resta de numeros flotantes es: \"\n",
        "rmf=\"El resultado de la multiplicacion de numeros flotantes es: \"\n",
        "rdf=\"El resultado de la division de numeros flotantes es: \"\n",
        "se=str (se)\n",
        "re=str (re)\n",
        "me=str (me)\n",
        "de=str (de)\n",
        "sf=str (sf)\n",
        "rf=str (rf)\n",
        "mf=str (mf)\n",
        "df=str (df)\n",
        "f=rse+se\n",
        "g=rre+re\n",
        "h=rme+me\n",
        "i=rde+de\n",
        "j=rsf+sf\n",
        "k=rrf+rf\n",
        "l=rmf+mf\n",
        "m=rdf+df\n",
        "\n",
        "print(f)\n",
        "print(g)\n",
        "print(h)\n",
        "print(i)\n",
        "print(j)\n",
        "print(k)\n",
        "print(l)\n",
        "print(m)\n"
      ],
      "execution_count": 3,
      "outputs": [
        {
          "output_type": "stream",
          "name": "stdout",
          "text": [
            "Introduce el primer numero entero: 23\n",
            "Introduce el segundo numero entero: 45\n",
            "Introduce el primer numero flotante (con punto decimal): 12.6\n",
            "Introduce el segundo numero flotante (con punto decimal): 35.2\n",
            "El resultado de la suma de enteros es: 68\n",
            "El resultado de la resta de enteros es: -22\n",
            "El resultado de la multiplicacion de enteros es: 1035\n",
            "El resultado de la division de enteros es: 0.5111111111111111\n",
            "El resultado de la suma de numeros flotantes es: 47.800000000000004\n",
            "El resultado de la resta de numeros flotantes es: -22.6\n",
            "El resultado de la multiplicacion de numeros flotantes es: 443.52000000000004\n",
            "El resultado de la division de numeros flotantes es: 0.3579545454545454\n"
          ]
        }
      ]
    },
    {
      "cell_type": "markdown",
      "metadata": {
        "id": "XiHZQMobadpG"
      },
      "source": [
        "## <strong> Ejercicio 3 </strong>\n",
        "Se le pedira a usuario introducir un par de numeros para las cuales se evaluara un par de expresiones logicas de cada tipo para cada uno, estas expresiones seran:\n",
        "  - AND\n",
        "  - OR \n",
        "  - NOT\n",
        "\n",
        "Las expresiones para AND seran:\n",
        "  - x > 7 AND x > 15\n",
        "  - y < 45 AND y > 24\n",
        "\n",
        "Las expresiones para OR seran:\n",
        "  - x > 14 OR x > 3\n",
        "  - y < 32 OR y > 23\n",
        "\n",
        "Las expresiones para NOT seran:\n",
        "  - x > 23 \n",
        "  - y < 9 \n"
      ]
    },
    {
      "cell_type": "code",
      "metadata": {
        "colab": {
          "base_uri": "https://localhost:8080/"
        },
        "id": "sr5kmhJJhrU_",
        "outputId": "105df62b-8971-41fa-db69-60204439bd8e"
      },
      "source": [
        "x= input(\"Introduce el primer numero: \") \n",
        "y= input(\"Introduce el segundo numero: \")\n",
        "x= float (x)\n",
        "y= float (y)\n",
        "if (x>=7 and x>=15):\n",
        "  print(\"La primera expresion de AND es Verdadera\")\n",
        "else:\n",
        "  print(\"La primera expresion de AND es Falsa\")\n",
        "\n",
        "if (y>=45 and y>=24):\n",
        "  print(\"La segunda expresion de AND es Verdadera\")\n",
        "else:\n",
        "  print(\"La segunda expresion de AND es Falsa\")\n",
        "\n",
        "if (x>=14 or x>=3):\n",
        "  print(\"La primera expresion de OR es Verdadera\")\n",
        "else:\n",
        "  print(\"La primera expresion de OR es Falsa\")\n",
        "\n",
        "if (y<=32 or y>=23):\n",
        "  print(\"La segunda expresion de OR es Verdadera\")\n",
        "else:\n",
        "  print(\"La Segunda expresion de OR es Falsa\")\n",
        "\n",
        "if (not x>=23):\n",
        "  print(\"La primera expresion de NOT nos da un Verdadero\")\n",
        "else:\n",
        "  print(\"La primera expresion de NOT nos da un Falso\")\n",
        "\n",
        "if (not y<=9):\n",
        "  print(\"La segunda expresion de NOT nos da un Verdadero\")\n",
        "else:\n",
        "  print(\"La segunda expresion de NOT nos da un Falso\")"
      ],
      "execution_count": 5,
      "outputs": [
        {
          "output_type": "stream",
          "name": "stdout",
          "text": [
            "Introduce el primer numero: 23\n",
            "Introduce el segundo numero: 65\n",
            "La primera expresion de AND es Verdadera\n",
            "La segunda expresion de AND es Verdadera\n",
            "La primera expresion de OR es Verdadera\n",
            "La segunda expresion de OR es Verdadera\n",
            "La primera expresion de NOT nos da un Falso\n",
            "La segunda expresion de NOT nos da un Verdadero\n"
          ]
        }
      ]
    }
  ]
}