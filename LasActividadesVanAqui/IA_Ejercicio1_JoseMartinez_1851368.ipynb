{
  "nbformat": 4,
  "nbformat_minor": 0,
  "metadata": {
    "colab": {
      "name": "IA_Ejercicio1_JoseMartinez_1851368.ipynb",
      "provenance": [],
      "collapsed_sections": []
    },
    "kernelspec": {
      "name": "python3",
      "display_name": "Python 3"
    },
    "language_info": {
      "name": "python"
    }
  },
  "cells": [
    {
      "cell_type": "markdown",
      "metadata": {
        "id": "L4zyT9nIyqAe"
      },
      "source": [
        "## <strong> Actividad 2.- Ejercicios Introducción Python </strong>\n",
        "<strong> Nombre: Jose Emanuel Martinez Rodriguez </strong>\n",
        "\n",
        "<strong> Matricula: 1851368   </strong>  \n",
        "  <strong>  Hora Clase: N4-N6 </strong>\n"
      ]
    },
    {
      "cell_type": "markdown",
      "metadata": {
        "id": "H7kJVfjh14Br"
      },
      "source": [
        "## <strong> Ejercicio 1 </strong>\n",
        "El siguente programa servira para tener una base de datos para corrovorar tu identidad, para ello se pedira los siguentes datos:\n",
        " - Nombre\n",
        " - Edad\n",
        " - Frase Favorita\n",
        " - Autor de la Frase\n",
        "\n",
        "Al final se corrovara los datos dados. "
      ]
    },
    {
      "cell_type": "code",
      "metadata": {
        "colab": {
          "base_uri": "https://localhost:8080/",
          "height": 529
        },
        "id": "7aGpHoOa6hM1",
        "outputId": "e7469d61-00b7-4e64-b829-ec7257c31da8"
      },
      "source": [
        "a= input(\"Introduce tu Nombre: \")\n",
        "b= input(\"Introduce tu Edad: \")\n",
        "c= input(\"Introduce tu Frase Favorita: \")\n",
        "d= input(\"Introduce el Autor de la Frase: \")\n",
        "e=\"Eres \"\n",
        "f=\" con edad de \" \n",
        "g=\" tu frase favorita es \"\n",
        "h=\" y su autor es \"\n",
        "j=\".\"\n",
        "l= e+a+f+b+g+c+h+d+j\n",
        "print(l)"
      ],
      "execution_count": 27,
      "outputs": [
        {
          "output_type": "error",
          "ename": "KeyboardInterrupt",
          "evalue": "ignored",
          "traceback": [
            "\u001b[0;31m---------------------------------------------------------------------------\u001b[0m",
            "\u001b[0;31mKeyboardInterrupt\u001b[0m                         Traceback (most recent call last)",
            "\u001b[0;32m/usr/local/lib/python3.7/dist-packages/ipykernel/kernelbase.py\u001b[0m in \u001b[0;36m_input_request\u001b[0;34m(self, prompt, ident, parent, password)\u001b[0m\n\u001b[1;32m    728\u001b[0m             \u001b[0;32mtry\u001b[0m\u001b[0;34m:\u001b[0m\u001b[0;34m\u001b[0m\u001b[0;34m\u001b[0m\u001b[0m\n\u001b[0;32m--> 729\u001b[0;31m                 \u001b[0mident\u001b[0m\u001b[0;34m,\u001b[0m \u001b[0mreply\u001b[0m \u001b[0;34m=\u001b[0m \u001b[0mself\u001b[0m\u001b[0;34m.\u001b[0m\u001b[0msession\u001b[0m\u001b[0;34m.\u001b[0m\u001b[0mrecv\u001b[0m\u001b[0;34m(\u001b[0m\u001b[0mself\u001b[0m\u001b[0;34m.\u001b[0m\u001b[0mstdin_socket\u001b[0m\u001b[0;34m,\u001b[0m \u001b[0;36m0\u001b[0m\u001b[0;34m)\u001b[0m\u001b[0;34m\u001b[0m\u001b[0;34m\u001b[0m\u001b[0m\n\u001b[0m\u001b[1;32m    730\u001b[0m             \u001b[0;32mexcept\u001b[0m \u001b[0mException\u001b[0m\u001b[0;34m:\u001b[0m\u001b[0;34m\u001b[0m\u001b[0;34m\u001b[0m\u001b[0m\n",
            "\u001b[0;32m/usr/local/lib/python3.7/dist-packages/jupyter_client/session.py\u001b[0m in \u001b[0;36mrecv\u001b[0;34m(self, socket, mode, content, copy)\u001b[0m\n\u001b[1;32m    802\u001b[0m         \u001b[0;32mtry\u001b[0m\u001b[0;34m:\u001b[0m\u001b[0;34m\u001b[0m\u001b[0;34m\u001b[0m\u001b[0m\n\u001b[0;32m--> 803\u001b[0;31m             \u001b[0mmsg_list\u001b[0m \u001b[0;34m=\u001b[0m \u001b[0msocket\u001b[0m\u001b[0;34m.\u001b[0m\u001b[0mrecv_multipart\u001b[0m\u001b[0;34m(\u001b[0m\u001b[0mmode\u001b[0m\u001b[0;34m,\u001b[0m \u001b[0mcopy\u001b[0m\u001b[0;34m=\u001b[0m\u001b[0mcopy\u001b[0m\u001b[0;34m)\u001b[0m\u001b[0;34m\u001b[0m\u001b[0;34m\u001b[0m\u001b[0m\n\u001b[0m\u001b[1;32m    804\u001b[0m         \u001b[0;32mexcept\u001b[0m \u001b[0mzmq\u001b[0m\u001b[0;34m.\u001b[0m\u001b[0mZMQError\u001b[0m \u001b[0;32mas\u001b[0m \u001b[0me\u001b[0m\u001b[0;34m:\u001b[0m\u001b[0;34m\u001b[0m\u001b[0;34m\u001b[0m\u001b[0m\n",
            "\u001b[0;32m/usr/local/lib/python3.7/dist-packages/zmq/sugar/socket.py\u001b[0m in \u001b[0;36mrecv_multipart\u001b[0;34m(self, flags, copy, track)\u001b[0m\n\u001b[1;32m    618\u001b[0m         \"\"\"\n\u001b[0;32m--> 619\u001b[0;31m         \u001b[0mparts\u001b[0m \u001b[0;34m=\u001b[0m \u001b[0;34m[\u001b[0m\u001b[0mself\u001b[0m\u001b[0;34m.\u001b[0m\u001b[0mrecv\u001b[0m\u001b[0;34m(\u001b[0m\u001b[0mflags\u001b[0m\u001b[0;34m,\u001b[0m \u001b[0mcopy\u001b[0m\u001b[0;34m=\u001b[0m\u001b[0mcopy\u001b[0m\u001b[0;34m,\u001b[0m \u001b[0mtrack\u001b[0m\u001b[0;34m=\u001b[0m\u001b[0mtrack\u001b[0m\u001b[0;34m)\u001b[0m\u001b[0;34m]\u001b[0m\u001b[0;34m\u001b[0m\u001b[0;34m\u001b[0m\u001b[0m\n\u001b[0m\u001b[1;32m    620\u001b[0m         \u001b[0;31m# have first part already, only loop while more to receive\u001b[0m\u001b[0;34m\u001b[0m\u001b[0;34m\u001b[0m\u001b[0;34m\u001b[0m\u001b[0m\n",
            "\u001b[0;32mzmq/backend/cython/socket.pyx\u001b[0m in \u001b[0;36mzmq.backend.cython.socket.Socket.recv\u001b[0;34m()\u001b[0m\n",
            "\u001b[0;32mzmq/backend/cython/socket.pyx\u001b[0m in \u001b[0;36mzmq.backend.cython.socket.Socket.recv\u001b[0;34m()\u001b[0m\n",
            "\u001b[0;32mzmq/backend/cython/socket.pyx\u001b[0m in \u001b[0;36mzmq.backend.cython.socket._recv_copy\u001b[0;34m()\u001b[0m\n",
            "\u001b[0;32m/usr/local/lib/python3.7/dist-packages/zmq/backend/cython/checkrc.pxd\u001b[0m in \u001b[0;36mzmq.backend.cython.checkrc._check_rc\u001b[0;34m()\u001b[0m\n",
            "\u001b[0;31mKeyboardInterrupt\u001b[0m: ",
            "\nDuring handling of the above exception, another exception occurred:\n",
            "\u001b[0;31mKeyboardInterrupt\u001b[0m                         Traceback (most recent call last)",
            "\u001b[0;32m<ipython-input-27-b01647541da1>\u001b[0m in \u001b[0;36m<module>\u001b[0;34m()\u001b[0m\n\u001b[0;32m----> 1\u001b[0;31m \u001b[0ma\u001b[0m\u001b[0;34m=\u001b[0m \u001b[0minput\u001b[0m\u001b[0;34m(\u001b[0m\u001b[0;34m\"Introduce tu Nombre: \"\u001b[0m\u001b[0;34m)\u001b[0m\u001b[0;34m\u001b[0m\u001b[0;34m\u001b[0m\u001b[0m\n\u001b[0m\u001b[1;32m      2\u001b[0m \u001b[0mb\u001b[0m\u001b[0;34m=\u001b[0m \u001b[0minput\u001b[0m\u001b[0;34m(\u001b[0m\u001b[0;34m\"Introduce tu Edad: \"\u001b[0m\u001b[0;34m)\u001b[0m\u001b[0;34m\u001b[0m\u001b[0;34m\u001b[0m\u001b[0m\n\u001b[1;32m      3\u001b[0m \u001b[0mc\u001b[0m\u001b[0;34m=\u001b[0m \u001b[0minput\u001b[0m\u001b[0;34m(\u001b[0m\u001b[0;34m\"Introduce tu Frase Favorita: \"\u001b[0m\u001b[0;34m)\u001b[0m\u001b[0;34m\u001b[0m\u001b[0;34m\u001b[0m\u001b[0m\n\u001b[1;32m      4\u001b[0m \u001b[0md\u001b[0m\u001b[0;34m=\u001b[0m \u001b[0minput\u001b[0m\u001b[0;34m(\u001b[0m\u001b[0;34m\"Introduce el Autor de la Frase: \"\u001b[0m\u001b[0;34m)\u001b[0m\u001b[0;34m\u001b[0m\u001b[0;34m\u001b[0m\u001b[0m\n\u001b[1;32m      5\u001b[0m \u001b[0me\u001b[0m\u001b[0;34m=\u001b[0m\u001b[0;34m\"Eres \"\u001b[0m\u001b[0;34m\u001b[0m\u001b[0;34m\u001b[0m\u001b[0m\n",
            "\u001b[0;32m/usr/local/lib/python3.7/dist-packages/ipykernel/kernelbase.py\u001b[0m in \u001b[0;36mraw_input\u001b[0;34m(self, prompt)\u001b[0m\n\u001b[1;32m    702\u001b[0m             \u001b[0mself\u001b[0m\u001b[0;34m.\u001b[0m\u001b[0m_parent_ident\u001b[0m\u001b[0;34m,\u001b[0m\u001b[0;34m\u001b[0m\u001b[0;34m\u001b[0m\u001b[0m\n\u001b[1;32m    703\u001b[0m             \u001b[0mself\u001b[0m\u001b[0;34m.\u001b[0m\u001b[0m_parent_header\u001b[0m\u001b[0;34m,\u001b[0m\u001b[0;34m\u001b[0m\u001b[0;34m\u001b[0m\u001b[0m\n\u001b[0;32m--> 704\u001b[0;31m             \u001b[0mpassword\u001b[0m\u001b[0;34m=\u001b[0m\u001b[0;32mFalse\u001b[0m\u001b[0;34m,\u001b[0m\u001b[0;34m\u001b[0m\u001b[0;34m\u001b[0m\u001b[0m\n\u001b[0m\u001b[1;32m    705\u001b[0m         )\n\u001b[1;32m    706\u001b[0m \u001b[0;34m\u001b[0m\u001b[0m\n",
            "\u001b[0;32m/usr/local/lib/python3.7/dist-packages/ipykernel/kernelbase.py\u001b[0m in \u001b[0;36m_input_request\u001b[0;34m(self, prompt, ident, parent, password)\u001b[0m\n\u001b[1;32m    732\u001b[0m             \u001b[0;32mexcept\u001b[0m \u001b[0mKeyboardInterrupt\u001b[0m\u001b[0;34m:\u001b[0m\u001b[0;34m\u001b[0m\u001b[0;34m\u001b[0m\u001b[0m\n\u001b[1;32m    733\u001b[0m                 \u001b[0;31m# re-raise KeyboardInterrupt, to truncate traceback\u001b[0m\u001b[0;34m\u001b[0m\u001b[0;34m\u001b[0m\u001b[0;34m\u001b[0m\u001b[0m\n\u001b[0;32m--> 734\u001b[0;31m                 \u001b[0;32mraise\u001b[0m \u001b[0mKeyboardInterrupt\u001b[0m\u001b[0;34m\u001b[0m\u001b[0;34m\u001b[0m\u001b[0m\n\u001b[0m\u001b[1;32m    735\u001b[0m             \u001b[0;32melse\u001b[0m\u001b[0;34m:\u001b[0m\u001b[0;34m\u001b[0m\u001b[0;34m\u001b[0m\u001b[0m\n\u001b[1;32m    736\u001b[0m                 \u001b[0;32mbreak\u001b[0m\u001b[0;34m\u001b[0m\u001b[0;34m\u001b[0m\u001b[0m\n",
            "\u001b[0;31mKeyboardInterrupt\u001b[0m: "
          ]
        }
      ]
    },
    {
      "cell_type": "markdown",
      "metadata": {
        "id": "rp-PvkU7IEsr"
      },
      "source": [
        "## <strong> Ejercicio 2 </strong>\n",
        "Se platea realizar las 4 operaciones basicas a 2 pares de numeros, el primer par debe ser de numeros enteros, mientras el segundo par debe ser de numeros flotantes y al final se daran los resultados de las operaciones hechas."
      ]
    },
    {
      "cell_type": "code",
      "metadata": {
        "colab": {
          "base_uri": "https://localhost:8080/"
        },
        "id": "KUEjifx9L-qN",
        "outputId": "48902ce6-770d-4684-a5e4-92854da8a093"
      },
      "source": [
        "a= input(\"Introduce el primer numero entero: \") \n",
        "b= input(\"Introduce el segundo numero entero: \")\n",
        "c= input(\"Introduce el primer numero flotante (con punto decimal): \") \n",
        "d= input(\"Introduce el segundo numero flotante (con punto decimal): \")\n",
        "a=int (a)\n",
        "b=int (b)\n",
        "c=float (c)\n",
        "d=float (d)\n",
        "se=a+b\n",
        "re=a-b\n",
        "me=a*b\n",
        "de=a/b\n",
        "sf=c+d\n",
        "rf=c-d\n",
        "mf=c*d\n",
        "df=c/d\n",
        "rse=\"El resultado de la suma de enteros es: \"\n",
        "rre=\"El resultado de la resta de enteros es: \"\n",
        "rme=\"El resultado de la multiplicacion de enteros es: \"\n",
        "rde=\"El resultado de la division de enteros es: \"\n",
        "rsf=\"El resultado de la suma de numeros flotantes es: \"\n",
        "rrf=\"El resultado de la resta de numeros flotantes es: \"\n",
        "rmf=\"El resultado de la multiplicacion de numeros flotantes es: \"\n",
        "rdf=\"El resultado de la division de numeros flotantes es: \"\n",
        "se=str (se)\n",
        "re=str (re)\n",
        "me=str (me)\n",
        "de=str (de)\n",
        "sf=str (sf)\n",
        "rf=str (rf)\n",
        "mf=str (mf)\n",
        "df=str (df)\n",
        "f=rse+se\n",
        "g=rre+re\n",
        "h=rme+me\n",
        "i=rde+de\n",
        "j=rsf+sf\n",
        "k=rrf+rf\n",
        "l=rmf+mf\n",
        "m=rdf+df\n",
        "\n",
        "print(f)\n",
        "print(g)\n",
        "print(h)\n",
        "print(i)\n",
        "print(j)\n",
        "print(k)\n",
        "print(l)\n",
        "print(m)\n"
      ],
      "execution_count": 35,
      "outputs": [
        {
          "output_type": "stream",
          "name": "stdout",
          "text": [
            "Introduce el primer numero entero: 34\n",
            "Introduce el segundo numero entero: 546\n",
            "Introduce el primer numero flotante (con punto decimal): 756.5\n",
            "Introduce el segundo numero flotante (con punto decimal): 43.3\n",
            "El resultado de la suma de enteros es: 580\n",
            "El resultado de la resta de enteros es: -512\n",
            "El resultado de la multiplicacion de enteros es: 18564\n",
            "El resultado de la division de enteros es: 0.06227106227106227\n",
            "El resultado de la suma de numeros flotantes es: 799.8\n",
            "El resultado de la resta de numeros flotantes es: 713.2\n",
            "El resultado de la multiplicacion de numeros flotantes es: 32756.449999999997\n",
            "El resultado de la divicion de numeros flotantes es: 17.471131639722866\n"
          ]
        }
      ]
    },
    {
      "cell_type": "markdown",
      "metadata": {
        "id": "XiHZQMobadpG"
      },
      "source": [
        "## <strong> Ejercicio 3 </strong>\n",
        "Se le pedira a usuario introducir un par de numeros para las cuales se evaluara un par de expresiones logicas de cada tipo para cada uno, estas expresiones seran:\n",
        "  - AND\n",
        "  - OR \n",
        "  - NOT\n",
        "\n",
        "Las expresiones para AND seran:\n",
        "  - x > 7 AND x > 15\n",
        "  - y < 45 AND y > 24\n",
        "\n",
        "Las expresiones para OR seran:\n",
        "  - x > 14 OR x > 3\n",
        "  - y < 32 OR y > 23\n",
        "\n",
        "Las expresiones para  seran:\n",
        "  - x > 23 \n",
        "  - y < 9 \n"
      ]
    },
    {
      "cell_type": "code",
      "metadata": {
        "colab": {
          "base_uri": "https://localhost:8080/"
        },
        "id": "sr5kmhJJhrU_",
        "outputId": "99f97777-9f35-4ed2-8ec6-3518fe3c1d29"
      },
      "source": [
        "x= input(\"Introduce el primer numero: \") \n",
        "y= input(\"Introduce el segundo numero: \")\n",
        "x= float (x)\n",
        "y= float (y)\n",
        "if (x>7 and x>15):\n",
        "  print(\"La primera expresion de AND es Verdadera\")\n",
        "else:\n",
        "  print(\"La primera expresion de AND es Falsa\")\n",
        "\n",
        "if (y>45 and y>24):\n",
        "  print(\"La segunda expresion de AND es Verdadera\")\n",
        "else:\n",
        "  print(\"La segunda expresion de AND es Falsa\")\n",
        "\n",
        "if (x>14 or x>3):\n",
        "  print(\"La primera expresion de OR es Verdadera\")\n",
        "else:\n",
        "  print(\"La primera expresion de OR es Falsa\")\n",
        "\n",
        "if (x<32 or x>23):\n",
        "  print(\"La segunda expresion de OR es Verdadera\")\n",
        "else:\n",
        "  print(\"La Segunda expresion de OR es Falsa\")\n",
        "\n",
        "if (not x>23):\n",
        "  print(\"La primera expresion de NOT nos da un Verdadero\")\n",
        "else:\n",
        "  print(\"La primera expresion de NOT nos da un Falso\")\n",
        "\n",
        "if (not y<9):\n",
        "  print(\"La segunda expresion de NOT nos da un Verdadero\")\n",
        "else:\n",
        "  print(\"La segunda expresion de NOT nos da un Falso\")"
      ],
      "execution_count": 40,
      "outputs": [
        {
          "output_type": "stream",
          "name": "stdout",
          "text": [
            "Introduce el primer numero: 12\n",
            "Introduce el segundo numero: 5\n",
            "La primera expresion de AND es Falsa\n",
            "La segunda expresion de AND es Falsa\n",
            "La primera expresion de OR es Verdadera\n",
            "La segunda expresion de OR es Verdadera\n",
            "La primera expresion de NOT nos da un Verdadero\n",
            "La segunda expresion de NOT nos da un Falso\n"
          ]
        }
      ]
    }
  ]
}