{
  "nbformat": 4,
  "nbformat_minor": 0,
  "metadata": {
    "colab": {
      "name": "Examen_Medio_Curso.ipynb",
      "provenance": []
    },
    "kernelspec": {
      "name": "python3",
      "display_name": "Python 3"
    },
    "language_info": {
      "name": "python"
    }
  },
  "cells": [
    {
      "cell_type": "markdown",
      "metadata": {
        "id": "5ou_GZzgIiB4"
      },
      "source": [
        "## <strong> Examen de Medio Curso</strong>\n",
        "<strong> Nombre: Jose Emanuel Martinez Rodriguez </strong>\n",
        "\n",
        "<strong> Matricula: 1851368   </strong>  \n",
        "  <strong>  Hora Clase: N4-N6 </strong>\n",
        "  "
      ]
    },
    {
      "cell_type": "markdown",
      "metadata": {
        "id": "WT60lWWK5_Cj"
      },
      "source": [
        "\n",
        "<strong>Ejercicio 1.1</strong>\n",
        " \n",
        "El usuario dará un número al azar y el código calculará la suma de todos los números desde el 1 hasta el número dado por el usuario.\n",
        "Ejemplo: el usuario dió el número 4, el código deberá de dar como resultado 10"
      ]
    },
    {
      "cell_type": "code",
      "metadata": {
        "colab": {
          "base_uri": "https://localhost:8080/"
        },
        "id": "vaaXYdS358BY",
        "outputId": "c580c5c2-dc37-4e6f-b7b4-d68b49feec0f"
      },
      "source": [
        "n= input(\"Introduce un numero: \")\n",
        "i=1\n",
        "n=int (n)\n",
        "i=int (i)\n",
        "while (i<11):\n",
        "  su= n+i\n",
        "  su=str (su)\n",
        "  pa=\"Uno de los resultados de las sumas es \"\n",
        "  ora= pa+su\n",
        "  print(ora)\n",
        "  i +=1"
      ],
      "execution_count": 7,
      "outputs": [
        {
          "output_type": "stream",
          "name": "stdout",
          "text": [
            "Introduce un numero: 8\n",
            "Uno de los resultados de las sumas es 9\n",
            "Uno de los resultados de las sumas es 10\n",
            "Uno de los resultados de las sumas es 11\n",
            "Uno de los resultados de las sumas es 12\n",
            "Uno de los resultados de las sumas es 13\n",
            "Uno de los resultados de las sumas es 14\n",
            "Uno de los resultados de las sumas es 15\n",
            "Uno de los resultados de las sumas es 16\n",
            "Uno de los resultados de las sumas es 17\n",
            "Uno de los resultados de las sumas es 18\n"
          ]
        }
      ]
    },
    {
      "cell_type": "markdown",
      "metadata": {
        "id": "YC7aeEPD59az"
      },
      "source": [
        "<strong>Ejercicio 1.2</strong>\n",
        "\n",
        "Dados el inicio y final de un rango de números, guardar ese rango de números en una lista. Después, imprimir los números que son pares en la lista por medio de uno de los ciclos que vimos en clase. \n",
        "Inicio = 6, final = 31"
      ]
    },
    {
      "cell_type": "code",
      "metadata": {
        "colab": {
          "base_uri": "https://localhost:8080/"
        },
        "id": "baESZWivDIV9",
        "outputId": "9d349b38-6f3a-497d-f410-9e4c22c3d36f"
      },
      "source": [
        "numeros=[6,7,8,9,10,11,12,13,14,15,16,17,18,19,20,21,22,23,24,25,26,27,28,29,30,31]\n",
        "i=0\n",
        "for i in numeros:\n",
        "  if i%2 == 0:\n",
        "    print(i)\n"
      ],
      "execution_count": 14,
      "outputs": [
        {
          "output_type": "stream",
          "name": "stdout",
          "text": [
            "6\n",
            "8\n",
            "10\n",
            "12\n",
            "14\n",
            "16\n",
            "18\n",
            "20\n",
            "22\n",
            "24\n",
            "26\n",
            "28\n",
            "30\n"
          ]
        }
      ]
    }
  ]
}